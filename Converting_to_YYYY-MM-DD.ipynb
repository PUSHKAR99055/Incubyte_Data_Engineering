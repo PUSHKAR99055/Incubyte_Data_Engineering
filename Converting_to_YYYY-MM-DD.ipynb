{
 "cells": [
  {
   "cell_type": "code",
   "execution_count": 8,
   "metadata": {},
   "outputs": [],
   "source": [
    "import pyspark\n",
    "import pyspark.sql\n",
    "from pyspark.sql import *\n",
    "from pyspark import SparkContext\n",
    "from pyspark.sql import SparkSession, Row\n",
    "from pyspark.sql.functions import *\n",
    "from functools import reduce\n",
    "from pyspark.sql import DataFrame\n",
    "import pandas\n",
    "from pyspark.sql.types import StructType,StructField, StringType, IntegerType \n",
    "from pyspark.sql.types import ArrayType, DoubleType, BooleanType\n",
    "from pyspark.sql.functions import col,array_contains"
   ]
  },
  {
   "cell_type": "code",
   "execution_count": 9,
   "metadata": {},
   "outputs": [],
   "source": [
    "spark = SparkSession \\\n",
    "    .builder \\\n",
    "    .appName(\"Vaccine Analysis\") \\\n",
    "    .config(\"spark.some.config.option\", \"some-value\") \\\n",
    "    .getOrCreate()"
   ]
  },
  {
   "cell_type": "code",
   "execution_count": 10,
   "metadata": {},
   "outputs": [],
   "source": [
    "# Reading CSV File\n",
    "IND_DF = spark.read.csv(\"hdfs://nameservice1/user/adityabend99edu/IND.csv\", header='true', \n",
    "                      inferSchema='true')\n",
    "USA_DF = spark.read.csv(\"hdfs://nameservice1/user/adityabend99edu/USA.csv\", header='true', \n",
    "                      inferSchema='true')\n",
    "AUS_DF = spark.read.csv(\"hdfs://nameservice1/user/adityabend99edu/AUS.csv\", header='true', \n",
    "                      inferSchema='true')"
   ]
  },
  {
   "cell_type": "code",
   "execution_count": 11,
   "metadata": {},
   "outputs": [
    {
     "name": "stdout",
     "output_type": "stream",
     "text": [
      "+---------+---------------+-------------------+-------+\n",
      "|     Name|VaccinationType|    VaccinationDate|Country|\n",
      "+---------+---------------+-------------------+-------+\n",
      "|     Mike|            LMN|2022-05-11 00:00:00|    AUS|\n",
      "|Jonnathan|            XYZ|         2021-13-13|    AUS|\n",
      "| Cristina|            ABC|2022-03-12 00:00:00|    AUS|\n",
      "+---------+---------------+-------------------+-------+\n",
      "\n",
      "root\n",
      " |-- Name: string (nullable = true)\n",
      " |-- VaccinationType: string (nullable = true)\n",
      " |-- VaccinationDate: string (nullable = true)\n",
      " |-- Country: string (nullable = false)\n",
      "\n"
     ]
    }
   ],
   "source": [
    "AUS_DF = AUS_DF.withColumn(\"Country\", lit(\"AUS\")).withColumnRenamed(\"Vaccine Type\", \"VaccinationType\").withColumnRenamed(\"Patient Name\", \"Name\").withColumnRenamed(\"Date of Vaccination\", \"VaccinationDate\").drop(\"Date of Birth\",\"Unique ID\")\n",
    "AUS_DF.show()\n",
    "AUS_DF.printSchema()"
   ]
  },
  {
   "cell_type": "code",
   "execution_count": 12,
   "metadata": {},
   "outputs": [
    {
     "name": "stdout",
     "output_type": "stream",
     "text": [
      "+---------+---------------+----------+-------+\n",
      "|     Name|VaccinationType|      date|Country|\n",
      "+---------+---------------+----------+-------+\n",
      "|     Mike|            LMN|2022-05-11|    AUS|\n",
      "|Jonnathan|            XYZ|      null|    AUS|\n",
      "| Cristina|            ABC|2022-03-12|    AUS|\n",
      "+---------+---------------+----------+-------+\n",
      "\n"
     ]
    }
   ],
   "source": [
    "# Converting to Date Format\n",
    "AUS_DF = AUS_DF.select(col(\"Name\"), col(\"VaccinationType\"), to_date(col(\"VaccinationDate\"),\"yyyy-MM-dd\").alias(\"date\"), col(\"Country\"))\n",
    "AUS_DF.show()\n",
    "#Testing\n",
    "#print(test_Data_frame_data(AUS_DF))"
   ]
  },
  {
   "cell_type": "code",
   "execution_count": 13,
   "metadata": {},
   "outputs": [
    {
     "name": "stdout",
     "output_type": "stream",
     "text": [
      "root\n",
      " |-- Name: string (nullable = true)\n",
      " |-- VaccinationType: string (nullable = true)\n",
      " |-- VaccinationDate: string (nullable = true)\n",
      " |-- Country: string (nullable = false)\n",
      "\n",
      "+----+---------------+---------------+-------+\n",
      "|Name|VaccinationType|VaccinationDate|Country|\n",
      "+----+---------------+---------------+-------+\n",
      "| Sam|            EFG|        6152022|    USA|\n",
      "|John|            XYZ|        1052022|    USA|\n",
      "|Mike|            ABC|       12282021|    USA|\n",
      "+----+---------------+---------------+-------+\n",
      "\n"
     ]
    }
   ],
   "source": [
    "USA_DF = USA_DF.withColumn(\"Country\", lit(\"USA\")).drop(\"ID\")\n",
    "USA_DF = USA_DF.withColumn(\"VaccinationDate\", USA_DF[\"VaccinationDate\"].cast(StringType()))\n",
    "USA_DF.printSchema()\n",
    "USA_DF.show()\n",
    "#Testing\n",
    "#print(test_Data_frame_data(USA_DF))"
   ]
  },
  {
   "cell_type": "code",
   "execution_count": 14,
   "metadata": {},
   "outputs": [
    {
     "name": "stdout",
     "output_type": "stream",
     "text": [
      "+----+---------------+----------+-------+\n",
      "|Name|VaccinationType|      date|Country|\n",
      "+----+---------------+----------+-------+\n",
      "| Sam|            EFG|      null|    USA|\n",
      "|John|            XYZ|      null|    USA|\n",
      "|Mike|            ABC|2021-12-28|    USA|\n",
      "+----+---------------+----------+-------+\n",
      "\n"
     ]
    }
   ],
   "source": [
    "# Converting to Date Format\n",
    "USA_DF = USA_DF.select(col(\"Name\"), col(\"VaccinationType\"), to_date(col(\"VaccinationDate\"),\"MMddyyyy\").alias(\"date\"), col(\"Country\"))\n",
    "USA_DF.show()"
   ]
  },
  {
   "cell_type": "code",
   "execution_count": 15,
   "metadata": {},
   "outputs": [
    {
     "name": "stdout",
     "output_type": "stream",
     "text": [
      "+------+---------------+-------------------+-------+\n",
      "|  Name|VaccinationType|    VaccinationDate|Country|\n",
      "+------+---------------+-------------------+-------+\n",
      "| Vikas|            XYZ|2022-01-01 00:00:00|    IND|\n",
      "| Rahul|            ABC|2022-03-05 00:00:00|    IND|\n",
      "|Sameer|            ABC|2022-02-20 00:00:00|    IND|\n",
      "+------+---------------+-------------------+-------+\n",
      "\n"
     ]
    }
   ],
   "source": [
    "IND_DF = IND_DF.drop(\"DOB\",\"Free or Paid\",\"ID\")\n",
    "IND_DF = IND_DF.withColumn(\"Country\", lit(\"IND\"))\n",
    "IND_DF.show()"
   ]
  },
  {
   "cell_type": "code",
   "execution_count": 16,
   "metadata": {},
   "outputs": [
    {
     "name": "stdout",
     "output_type": "stream",
     "text": [
      "+------+---------------+----------+-------+\n",
      "|  Name|VaccinationType|      date|Country|\n",
      "+------+---------------+----------+-------+\n",
      "| Vikas|            XYZ|2022-01-01|    IND|\n",
      "| Rahul|            ABC|2022-03-05|    IND|\n",
      "|Sameer|            ABC|2022-02-20|    IND|\n",
      "+------+---------------+----------+-------+\n",
      "\n"
     ]
    }
   ],
   "source": [
    "# Converting to Date Format\n",
    "IND_DF = IND_DF.select(col(\"Name\"), col(\"VaccinationType\"), to_date(col(\"VaccinationDate\"),\"yyyy-MM-dd\").alias(\"date\"), col(\"Country\"))\n",
    "IND_DF.show()\n",
    "\n",
    "#Testing\n",
    "#print(test_Data_frame_data(IND_DF))"
   ]
  },
  {
   "cell_type": "code",
   "execution_count": 17,
   "metadata": {},
   "outputs": [
    {
     "name": "stdout",
     "output_type": "stream",
     "text": [
      "+---------+---------------+----------+-------+\n",
      "|     Name|VaccinationType|      date|Country|\n",
      "+---------+---------------+----------+-------+\n",
      "|     Mike|            LMN|2022-05-11|    AUS|\n",
      "|Jonnathan|            XYZ|      null|    AUS|\n",
      "| Cristina|            ABC|2022-03-12|    AUS|\n",
      "|    Vikas|            XYZ|2022-01-01|    IND|\n",
      "|    Rahul|            ABC|2022-03-05|    IND|\n",
      "|   Sameer|            ABC|2022-02-20|    IND|\n",
      "|      Sam|            EFG|      null|    USA|\n",
      "|     John|            XYZ|      null|    USA|\n",
      "|     Mike|            ABC|2021-12-28|    USA|\n",
      "+---------+---------------+----------+-------+\n",
      "\n"
     ]
    }
   ],
   "source": [
    "# Data merging into single source of truth\n",
    "import datetime\n",
    "\n",
    "\n",
    "dfs = [AUS_DF,IND_DF,USA_DF]\n",
    "Combine_df = reduce(DataFrame.unionAll, dfs)\n",
    "\n",
    "\n",
    "Combine_df.show()"
   ]
  },
  {
   "cell_type": "code",
   "execution_count": null,
   "metadata": {},
   "outputs": [],
   "source": []
  },
  {
   "cell_type": "code",
   "execution_count": null,
   "metadata": {},
   "outputs": [],
   "source": []
  }
 ],
 "metadata": {
  "kernelspec": {
   "display_name": "Python 3",
   "language": "python",
   "name": "python3"
  },
  "language_info": {
   "codemirror_mode": {
    "name": "ipython",
    "version": 3
   },
   "file_extension": ".py",
   "mimetype": "text/x-python",
   "name": "python",
   "nbconvert_exporter": "python",
   "pygments_lexer": "ipython3",
   "version": "3.7.6"
  }
 },
 "nbformat": 4,
 "nbformat_minor": 4
}
